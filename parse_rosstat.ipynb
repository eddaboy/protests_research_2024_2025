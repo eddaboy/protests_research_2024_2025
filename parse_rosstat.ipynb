{
 "cells": [
  {
   "cell_type": "code",
   "execution_count": 25,
   "metadata": {},
   "outputs": [
    {
     "name": "stdout",
     "output_type": "stream",
     "text": [
      "5.3.0\n"
     ]
    }
   ],
   "source": [
    "import pandas as pd\n",
    "import selenium\n",
    "import requests\n",
    "from bs4 import BeautifulSoup\n",
    "import lxml\n",
    "from selenium.webdriver.common.by import By\n",
    "print(lxml.__version__)\n",
    "from selenium import webdriver\n",
    "from selenium.webdriver.chrome.service import Service\n",
    "from webdriver_manager.chrome import ChromeDriverManager\n",
    "import time\n",
    "service = Service(ChromeDriverManager().install())\n",
    "driver = webdriver.Chrome()\n"
   ]
  },
  {
   "cell_type": "code",
   "execution_count": 28,
   "metadata": {},
   "outputs": [
    {
     "name": "stdout",
     "output_type": "stream",
     "text": [
      "[<selenium.webdriver.remote.webelement.WebElement (session=\"180f54a2c1c22c3da43c1550527cf233\", element=\"f.48B104B3320BE0F80DF68EA65A22F80F.d.7BBA50A3CD962FB5699F5FD290DB7A01.e.17\")>, <selenium.webdriver.remote.webelement.WebElement (session=\"180f54a2c1c22c3da43c1550527cf233\", element=\"f.48B104B3320BE0F80DF68EA65A22F80F.d.7BBA50A3CD962FB5699F5FD290DB7A01.e.10\")>, <selenium.webdriver.remote.webelement.WebElement (session=\"180f54a2c1c22c3da43c1550527cf233\", element=\"f.48B104B3320BE0F80DF68EA65A22F80F.d.7BBA50A3CD962FB5699F5FD290DB7A01.e.18\")>, <selenium.webdriver.remote.webelement.WebElement (session=\"180f54a2c1c22c3da43c1550527cf233\", element=\"f.48B104B3320BE0F80DF68EA65A22F80F.d.7BBA50A3CD962FB5699F5FD290DB7A01.e.19\")>, <selenium.webdriver.remote.webelement.WebElement (session=\"180f54a2c1c22c3da43c1550527cf233\", element=\"f.48B104B3320BE0F80DF68EA65A22F80F.d.7BBA50A3CD962FB5699F5FD290DB7A01.e.20\")>, <selenium.webdriver.remote.webelement.WebElement (session=\"180f54a2c1c22c3da43c1550527cf233\", element=\"f.48B104B3320BE0F80DF68EA65A22F80F.d.7BBA50A3CD962FB5699F5FD290DB7A01.e.21\")>, <selenium.webdriver.remote.webelement.WebElement (session=\"180f54a2c1c22c3da43c1550527cf233\", element=\"f.48B104B3320BE0F80DF68EA65A22F80F.d.7BBA50A3CD962FB5699F5FD290DB7A01.e.22\")>, <selenium.webdriver.remote.webelement.WebElement (session=\"180f54a2c1c22c3da43c1550527cf233\", element=\"f.48B104B3320BE0F80DF68EA65A22F80F.d.7BBA50A3CD962FB5699F5FD290DB7A01.e.23\")>, <selenium.webdriver.remote.webelement.WebElement (session=\"180f54a2c1c22c3da43c1550527cf233\", element=\"f.48B104B3320BE0F80DF68EA65A22F80F.d.7BBA50A3CD962FB5699F5FD290DB7A01.e.11\")>, <selenium.webdriver.remote.webelement.WebElement (session=\"180f54a2c1c22c3da43c1550527cf233\", element=\"f.48B104B3320BE0F80DF68EA65A22F80F.d.7BBA50A3CD962FB5699F5FD290DB7A01.e.24\")>, <selenium.webdriver.remote.webelement.WebElement (session=\"180f54a2c1c22c3da43c1550527cf233\", element=\"f.48B104B3320BE0F80DF68EA65A22F80F.d.7BBA50A3CD962FB5699F5FD290DB7A01.e.25\")>, <selenium.webdriver.remote.webelement.WebElement (session=\"180f54a2c1c22c3da43c1550527cf233\", element=\"f.48B104B3320BE0F80DF68EA65A22F80F.d.7BBA50A3CD962FB5699F5FD290DB7A01.e.26\")>, <selenium.webdriver.remote.webelement.WebElement (session=\"180f54a2c1c22c3da43c1550527cf233\", element=\"f.48B104B3320BE0F80DF68EA65A22F80F.d.7BBA50A3CD962FB5699F5FD290DB7A01.e.27\")>, <selenium.webdriver.remote.webelement.WebElement (session=\"180f54a2c1c22c3da43c1550527cf233\", element=\"f.48B104B3320BE0F80DF68EA65A22F80F.d.7BBA50A3CD962FB5699F5FD290DB7A01.e.28\")>, <selenium.webdriver.remote.webelement.WebElement (session=\"180f54a2c1c22c3da43c1550527cf233\", element=\"f.48B104B3320BE0F80DF68EA65A22F80F.d.7BBA50A3CD962FB5699F5FD290DB7A01.e.29\")>, <selenium.webdriver.remote.webelement.WebElement (session=\"180f54a2c1c22c3da43c1550527cf233\", element=\"f.48B104B3320BE0F80DF68EA65A22F80F.d.7BBA50A3CD962FB5699F5FD290DB7A01.e.30\")>, <selenium.webdriver.remote.webelement.WebElement (session=\"180f54a2c1c22c3da43c1550527cf233\", element=\"f.48B104B3320BE0F80DF68EA65A22F80F.d.7BBA50A3CD962FB5699F5FD290DB7A01.e.31\")>, <selenium.webdriver.remote.webelement.WebElement (session=\"180f54a2c1c22c3da43c1550527cf233\", element=\"f.48B104B3320BE0F80DF68EA65A22F80F.d.7BBA50A3CD962FB5699F5FD290DB7A01.e.32\")>, <selenium.webdriver.remote.webelement.WebElement (session=\"180f54a2c1c22c3da43c1550527cf233\", element=\"f.48B104B3320BE0F80DF68EA65A22F80F.d.7BBA50A3CD962FB5699F5FD290DB7A01.e.33\")>, <selenium.webdriver.remote.webelement.WebElement (session=\"180f54a2c1c22c3da43c1550527cf233\", element=\"f.48B104B3320BE0F80DF68EA65A22F80F.d.7BBA50A3CD962FB5699F5FD290DB7A01.e.34\")>, <selenium.webdriver.remote.webelement.WebElement (session=\"180f54a2c1c22c3da43c1550527cf233\", element=\"f.48B104B3320BE0F80DF68EA65A22F80F.d.7BBA50A3CD962FB5699F5FD290DB7A01.e.35\")>, <selenium.webdriver.remote.webelement.WebElement (session=\"180f54a2c1c22c3da43c1550527cf233\", element=\"f.48B104B3320BE0F80DF68EA65A22F80F.d.7BBA50A3CD962FB5699F5FD290DB7A01.e.36\")>, <selenium.webdriver.remote.webelement.WebElement (session=\"180f54a2c1c22c3da43c1550527cf233\", element=\"f.48B104B3320BE0F80DF68EA65A22F80F.d.7BBA50A3CD962FB5699F5FD290DB7A01.e.37\")>, <selenium.webdriver.remote.webelement.WebElement (session=\"180f54a2c1c22c3da43c1550527cf233\", element=\"f.48B104B3320BE0F80DF68EA65A22F80F.d.7BBA50A3CD962FB5699F5FD290DB7A01.e.38\")>, <selenium.webdriver.remote.webelement.WebElement (session=\"180f54a2c1c22c3da43c1550527cf233\", element=\"f.48B104B3320BE0F80DF68EA65A22F80F.d.7BBA50A3CD962FB5699F5FD290DB7A01.e.39\")>, <selenium.webdriver.remote.webelement.WebElement (session=\"180f54a2c1c22c3da43c1550527cf233\", element=\"f.48B104B3320BE0F80DF68EA65A22F80F.d.7BBA50A3CD962FB5699F5FD290DB7A01.e.40\")>, <selenium.webdriver.remote.webelement.WebElement (session=\"180f54a2c1c22c3da43c1550527cf233\", element=\"f.48B104B3320BE0F80DF68EA65A22F80F.d.7BBA50A3CD962FB5699F5FD290DB7A01.e.41\")>, <selenium.webdriver.remote.webelement.WebElement (session=\"180f54a2c1c22c3da43c1550527cf233\", element=\"f.48B104B3320BE0F80DF68EA65A22F80F.d.7BBA50A3CD962FB5699F5FD290DB7A01.e.42\")>, <selenium.webdriver.remote.webelement.WebElement (session=\"180f54a2c1c22c3da43c1550527cf233\", element=\"f.48B104B3320BE0F80DF68EA65A22F80F.d.7BBA50A3CD962FB5699F5FD290DB7A01.e.43\")>, <selenium.webdriver.remote.webelement.WebElement (session=\"180f54a2c1c22c3da43c1550527cf233\", element=\"f.48B104B3320BE0F80DF68EA65A22F80F.d.7BBA50A3CD962FB5699F5FD290DB7A01.e.44\")>, <selenium.webdriver.remote.webelement.WebElement (session=\"180f54a2c1c22c3da43c1550527cf233\", element=\"f.48B104B3320BE0F80DF68EA65A22F80F.d.7BBA50A3CD962FB5699F5FD290DB7A01.e.45\")>, <selenium.webdriver.remote.webelement.WebElement (session=\"180f54a2c1c22c3da43c1550527cf233\", element=\"f.48B104B3320BE0F80DF68EA65A22F80F.d.7BBA50A3CD962FB5699F5FD290DB7A01.e.46\")>, <selenium.webdriver.remote.webelement.WebElement (session=\"180f54a2c1c22c3da43c1550527cf233\", element=\"f.48B104B3320BE0F80DF68EA65A22F80F.d.7BBA50A3CD962FB5699F5FD290DB7A01.e.47\")>, <selenium.webdriver.remote.webelement.WebElement (session=\"180f54a2c1c22c3da43c1550527cf233\", element=\"f.48B104B3320BE0F80DF68EA65A22F80F.d.7BBA50A3CD962FB5699F5FD290DB7A01.e.48\")>, <selenium.webdriver.remote.webelement.WebElement (session=\"180f54a2c1c22c3da43c1550527cf233\", element=\"f.48B104B3320BE0F80DF68EA65A22F80F.d.7BBA50A3CD962FB5699F5FD290DB7A01.e.49\")>, <selenium.webdriver.remote.webelement.WebElement (session=\"180f54a2c1c22c3da43c1550527cf233\", element=\"f.48B104B3320BE0F80DF68EA65A22F80F.d.7BBA50A3CD962FB5699F5FD290DB7A01.e.50\")>, <selenium.webdriver.remote.webelement.WebElement (session=\"180f54a2c1c22c3da43c1550527cf233\", element=\"f.48B104B3320BE0F80DF68EA65A22F80F.d.7BBA50A3CD962FB5699F5FD290DB7A01.e.51\")>, <selenium.webdriver.remote.webelement.WebElement (session=\"180f54a2c1c22c3da43c1550527cf233\", element=\"f.48B104B3320BE0F80DF68EA65A22F80F.d.7BBA50A3CD962FB5699F5FD290DB7A01.e.52\")>, <selenium.webdriver.remote.webelement.WebElement (session=\"180f54a2c1c22c3da43c1550527cf233\", element=\"f.48B104B3320BE0F80DF68EA65A22F80F.d.7BBA50A3CD962FB5699F5FD290DB7A01.e.53\")>, <selenium.webdriver.remote.webelement.WebElement (session=\"180f54a2c1c22c3da43c1550527cf233\", element=\"f.48B104B3320BE0F80DF68EA65A22F80F.d.7BBA50A3CD962FB5699F5FD290DB7A01.e.54\")>, <selenium.webdriver.remote.webelement.WebElement (session=\"180f54a2c1c22c3da43c1550527cf233\", element=\"f.48B104B3320BE0F80DF68EA65A22F80F.d.7BBA50A3CD962FB5699F5FD290DB7A01.e.55\")>, <selenium.webdriver.remote.webelement.WebElement (session=\"180f54a2c1c22c3da43c1550527cf233\", element=\"f.48B104B3320BE0F80DF68EA65A22F80F.d.7BBA50A3CD962FB5699F5FD290DB7A01.e.56\")>, <selenium.webdriver.remote.webelement.WebElement (session=\"180f54a2c1c22c3da43c1550527cf233\", element=\"f.48B104B3320BE0F80DF68EA65A22F80F.d.7BBA50A3CD962FB5699F5FD290DB7A01.e.57\")>, <selenium.webdriver.remote.webelement.WebElement (session=\"180f54a2c1c22c3da43c1550527cf233\", element=\"f.48B104B3320BE0F80DF68EA65A22F80F.d.7BBA50A3CD962FB5699F5FD290DB7A01.e.58\")>, <selenium.webdriver.remote.webelement.WebElement (session=\"180f54a2c1c22c3da43c1550527cf233\", element=\"f.48B104B3320BE0F80DF68EA65A22F80F.d.7BBA50A3CD962FB5699F5FD290DB7A01.e.59\")>, <selenium.webdriver.remote.webelement.WebElement (session=\"180f54a2c1c22c3da43c1550527cf233\", element=\"f.48B104B3320BE0F80DF68EA65A22F80F.d.7BBA50A3CD962FB5699F5FD290DB7A01.e.60\")>, <selenium.webdriver.remote.webelement.WebElement (session=\"180f54a2c1c22c3da43c1550527cf233\", element=\"f.48B104B3320BE0F80DF68EA65A22F80F.d.7BBA50A3CD962FB5699F5FD290DB7A01.e.61\")>, <selenium.webdriver.remote.webelement.WebElement (session=\"180f54a2c1c22c3da43c1550527cf233\", element=\"f.48B104B3320BE0F80DF68EA65A22F80F.d.7BBA50A3CD962FB5699F5FD290DB7A01.e.62\")>, <selenium.webdriver.remote.webelement.WebElement (session=\"180f54a2c1c22c3da43c1550527cf233\", element=\"f.48B104B3320BE0F80DF68EA65A22F80F.d.7BBA50A3CD962FB5699F5FD290DB7A01.e.63\")>, <selenium.webdriver.remote.webelement.WebElement (session=\"180f54a2c1c22c3da43c1550527cf233\", element=\"f.48B104B3320BE0F80DF68EA65A22F80F.d.7BBA50A3CD962FB5699F5FD290DB7A01.e.64\")>, <selenium.webdriver.remote.webelement.WebElement (session=\"180f54a2c1c22c3da43c1550527cf233\", element=\"f.48B104B3320BE0F80DF68EA65A22F80F.d.7BBA50A3CD962FB5699F5FD290DB7A01.e.65\")>, <selenium.webdriver.remote.webelement.WebElement (session=\"180f54a2c1c22c3da43c1550527cf233\", element=\"f.48B104B3320BE0F80DF68EA65A22F80F.d.7BBA50A3CD962FB5699F5FD290DB7A01.e.66\")>, <selenium.webdriver.remote.webelement.WebElement (session=\"180f54a2c1c22c3da43c1550527cf233\", element=\"f.48B104B3320BE0F80DF68EA65A22F80F.d.7BBA50A3CD962FB5699F5FD290DB7A01.e.67\")>, <selenium.webdriver.remote.webelement.WebElement (session=\"180f54a2c1c22c3da43c1550527cf233\", element=\"f.48B104B3320BE0F80DF68EA65A22F80F.d.7BBA50A3CD962FB5699F5FD290DB7A01.e.68\")>, <selenium.webdriver.remote.webelement.WebElement (session=\"180f54a2c1c22c3da43c1550527cf233\", element=\"f.48B104B3320BE0F80DF68EA65A22F80F.d.7BBA50A3CD962FB5699F5FD290DB7A01.e.69\")>, <selenium.webdriver.remote.webelement.WebElement (session=\"180f54a2c1c22c3da43c1550527cf233\", element=\"f.48B104B3320BE0F80DF68EA65A22F80F.d.7BBA50A3CD962FB5699F5FD290DB7A01.e.70\")>, <selenium.webdriver.remote.webelement.WebElement (session=\"180f54a2c1c22c3da43c1550527cf233\", element=\"f.48B104B3320BE0F80DF68EA65A22F80F.d.7BBA50A3CD962FB5699F5FD290DB7A01.e.71\")>, <selenium.webdriver.remote.webelement.WebElement (session=\"180f54a2c1c22c3da43c1550527cf233\", element=\"f.48B104B3320BE0F80DF68EA65A22F80F.d.7BBA50A3CD962FB5699F5FD290DB7A01.e.72\")>, <selenium.webdriver.remote.webelement.WebElement (session=\"180f54a2c1c22c3da43c1550527cf233\", element=\"f.48B104B3320BE0F80DF68EA65A22F80F.d.7BBA50A3CD962FB5699F5FD290DB7A01.e.73\")>, <selenium.webdriver.remote.webelement.WebElement (session=\"180f54a2c1c22c3da43c1550527cf233\", element=\"f.48B104B3320BE0F80DF68EA65A22F80F.d.7BBA50A3CD962FB5699F5FD290DB7A01.e.74\")>, <selenium.webdriver.remote.webelement.WebElement (session=\"180f54a2c1c22c3da43c1550527cf233\", element=\"f.48B104B3320BE0F80DF68EA65A22F80F.d.7BBA50A3CD962FB5699F5FD290DB7A01.e.75\")>, <selenium.webdriver.remote.webelement.WebElement (session=\"180f54a2c1c22c3da43c1550527cf233\", element=\"f.48B104B3320BE0F80DF68EA65A22F80F.d.7BBA50A3CD962FB5699F5FD290DB7A01.e.76\")>, <selenium.webdriver.remote.webelement.WebElement (session=\"180f54a2c1c22c3da43c1550527cf233\", element=\"f.48B104B3320BE0F80DF68EA65A22F80F.d.7BBA50A3CD962FB5699F5FD290DB7A01.e.77\")>, <selenium.webdriver.remote.webelement.WebElement (session=\"180f54a2c1c22c3da43c1550527cf233\", element=\"f.48B104B3320BE0F80DF68EA65A22F80F.d.7BBA50A3CD962FB5699F5FD290DB7A01.e.78\")>, <selenium.webdriver.remote.webelement.WebElement (session=\"180f54a2c1c22c3da43c1550527cf233\", element=\"f.48B104B3320BE0F80DF68EA65A22F80F.d.7BBA50A3CD962FB5699F5FD290DB7A01.e.79\")>, <selenium.webdriver.remote.webelement.WebElement (session=\"180f54a2c1c22c3da43c1550527cf233\", element=\"f.48B104B3320BE0F80DF68EA65A22F80F.d.7BBA50A3CD962FB5699F5FD290DB7A01.e.80\")>, <selenium.webdriver.remote.webelement.WebElement (session=\"180f54a2c1c22c3da43c1550527cf233\", element=\"f.48B104B3320BE0F80DF68EA65A22F80F.d.7BBA50A3CD962FB5699F5FD290DB7A01.e.81\")>, <selenium.webdriver.remote.webelement.WebElement (session=\"180f54a2c1c22c3da43c1550527cf233\", element=\"f.48B104B3320BE0F80DF68EA65A22F80F.d.7BBA50A3CD962FB5699F5FD290DB7A01.e.82\")>, <selenium.webdriver.remote.webelement.WebElement (session=\"180f54a2c1c22c3da43c1550527cf233\", element=\"f.48B104B3320BE0F80DF68EA65A22F80F.d.7BBA50A3CD962FB5699F5FD290DB7A01.e.83\")>, <selenium.webdriver.remote.webelement.WebElement (session=\"180f54a2c1c22c3da43c1550527cf233\", element=\"f.48B104B3320BE0F80DF68EA65A22F80F.d.7BBA50A3CD962FB5699F5FD290DB7A01.e.84\")>, <selenium.webdriver.remote.webelement.WebElement (session=\"180f54a2c1c22c3da43c1550527cf233\", element=\"f.48B104B3320BE0F80DF68EA65A22F80F.d.7BBA50A3CD962FB5699F5FD290DB7A01.e.85\")>, <selenium.webdriver.remote.webelement.WebElement (session=\"180f54a2c1c22c3da43c1550527cf233\", element=\"f.48B104B3320BE0F80DF68EA65A22F80F.d.7BBA50A3CD962FB5699F5FD290DB7A01.e.86\")>, <selenium.webdriver.remote.webelement.WebElement (session=\"180f54a2c1c22c3da43c1550527cf233\", element=\"f.48B104B3320BE0F80DF68EA65A22F80F.d.7BBA50A3CD962FB5699F5FD290DB7A01.e.87\")>, <selenium.webdriver.remote.webelement.WebElement (session=\"180f54a2c1c22c3da43c1550527cf233\", element=\"f.48B104B3320BE0F80DF68EA65A22F80F.d.7BBA50A3CD962FB5699F5FD290DB7A01.e.88\")>, <selenium.webdriver.remote.webelement.WebElement (session=\"180f54a2c1c22c3da43c1550527cf233\", element=\"f.48B104B3320BE0F80DF68EA65A22F80F.d.7BBA50A3CD962FB5699F5FD290DB7A01.e.89\")>, <selenium.webdriver.remote.webelement.WebElement (session=\"180f54a2c1c22c3da43c1550527cf233\", element=\"f.48B104B3320BE0F80DF68EA65A22F80F.d.7BBA50A3CD962FB5699F5FD290DB7A01.e.90\")>, <selenium.webdriver.remote.webelement.WebElement (session=\"180f54a2c1c22c3da43c1550527cf233\", element=\"f.48B104B3320BE0F80DF68EA65A22F80F.d.7BBA50A3CD962FB5699F5FD290DB7A01.e.91\")>, <selenium.webdriver.remote.webelement.WebElement (session=\"180f54a2c1c22c3da43c1550527cf233\", element=\"f.48B104B3320BE0F80DF68EA65A22F80F.d.7BBA50A3CD962FB5699F5FD290DB7A01.e.92\")>, <selenium.webdriver.remote.webelement.WebElement (session=\"180f54a2c1c22c3da43c1550527cf233\", element=\"f.48B104B3320BE0F80DF68EA65A22F80F.d.7BBA50A3CD962FB5699F5FD290DB7A01.e.93\")>, <selenium.webdriver.remote.webelement.WebElement (session=\"180f54a2c1c22c3da43c1550527cf233\", element=\"f.48B104B3320BE0F80DF68EA65A22F80F.d.7BBA50A3CD962FB5699F5FD290DB7A01.e.94\")>, <selenium.webdriver.remote.webelement.WebElement (session=\"180f54a2c1c22c3da43c1550527cf233\", element=\"f.48B104B3320BE0F80DF68EA65A22F80F.d.7BBA50A3CD962FB5699F5FD290DB7A01.e.95\")>, <selenium.webdriver.remote.webelement.WebElement (session=\"180f54a2c1c22c3da43c1550527cf233\", element=\"f.48B104B3320BE0F80DF68EA65A22F80F.d.7BBA50A3CD962FB5699F5FD290DB7A01.e.96\")>, <selenium.webdriver.remote.webelement.WebElement (session=\"180f54a2c1c22c3da43c1550527cf233\", element=\"f.48B104B3320BE0F80DF68EA65A22F80F.d.7BBA50A3CD962FB5699F5FD290DB7A01.e.97\")>]\n"
     ]
    }
   ],
   "source": [
    "ref = 'https://rosstat.gov.ru/storage/mediabank/munst.htm'\n",
    "driver.get(ref)\n",
    "driver.implicitly_wait(0.5)\n",
    "driver.maximize_window()\n",
    "driver.implicitly_wait(1)\n",
    "\n",
    "region_links = driver.find_elements(By.XPATH, \"//a[contains(@href, 'munst')]\")\n",
    "print(region_links)\n",
    "links = []\n",
    "for link in region_links:\n",
    "    links.append((link.get_attribute('href'), link.text))\n",
    "# driver.close()\n"
   ]
  },
  {
   "cell_type": "code",
   "execution_count": 29,
   "metadata": {},
   "outputs": [],
   "source": [
    "links = links[1:]"
   ]
  },
  {
   "cell_type": "code",
   "execution_count": 31,
   "metadata": {},
   "outputs": [],
   "source": [
    "def get_table_one_mun(link, cnt):\n",
    "    try:\n",
    "        if cnt == 0:\n",
    "\n",
    "            driver.implicitly_wait(0.5)\n",
    "            driver.maximize_window()\n",
    "            driver.implicitly_wait(1)\n",
    "        else:\n",
    "            window_handles = driver.window_handles\n",
    "            # # Переключаемся на последнюю открытую вкладку (новую)\n",
    "            driver.switch_to.window(window_handles[-1])\n",
    "        driver.get(link)\n",
    "        search_dir = driver.find_element(By.LINK_TEXT, 'Население') # сюда вставлять название папки со сферой, которую парсим на данный момент\n",
    "        search_dir.click()\n",
    "        search_elem = driver.find_element(By.NAME, 'p8112030') # сюда вставлять id для критерий\n",
    "        search_elem.click()\n",
    "        button_next = driver.find_element(By.ID, 'Knopka')\n",
    "        button_next.click()\n",
    "        all_mun = driver.find_element(By.NAME, 'munr_chk')\n",
    "        all_mun.click()\n",
    "        type_pos = driver.find_element(By.NAME, \"tippos_chk\")\n",
    "        type_pos.click()\n",
    "        mun_obr = driver.find_element(By.NAME, 'oktmo_chk')\n",
    "        mun_obr.click()\n",
    "        chk_years = driver.find_element(By.NAME, 'god_chk')\n",
    "        chk_years.click()\n",
    "        aa = driver.find_element(By.NAME, 'STbl')\n",
    "        aa.click()\n",
    "        window_handles = driver.window_handles\n",
    "        # # Переключаемся на последнюю открытую вкладку (новую)\n",
    "        driver.switch_to.window(window_handles[-1])\n",
    "        a = driver.find_element(By.NAME, 'Format')\n",
    "        a.click()\n",
    "        b = driver.find_element(By.XPATH, '//select//option[contains(text(), \"CSV\")]')\n",
    "        b.click()\n",
    "        c = driver.find_element(By.NAME, 'showtbl0')\n",
    "        c.click()\n",
    "        # name_file = f'Report ({cnt}).csv' if cnt > 0 else 'Report.csv'\n",
    "        # curr_path = '/home/nomad/Downloads' + name_file\n",
    "        # df = pd.read_csv(curr_path, sep=';', encoding='cp1251', skiprows=2, header=0, index_col=0)\n",
    "\n",
    "        # # Теперь вы можете выполнять действия на новой вкладке\n",
    "        # # Например, получить заголовок страницы\n",
    "        # print(driver.title)\n",
    "\n",
    "        # # Закрытие новой вкладки (по желанию)\n",
    "\n",
    "        # # Переключение обратно на первую вкладку\n",
    "        # # driver.switch_to.window(window_handles[0])\n",
    "        driver.close()\n",
    "        # driver.quit()\n",
    "    except Exception as error:\n",
    "        print(error)"
   ]
  },
  {
   "cell_type": "code",
   "execution_count": 32,
   "metadata": {},
   "outputs": [
    {
     "name": "stderr",
     "output_type": "stream",
     "text": [
      "  9%|▊         | 7/82 [00:41<06:12,  4.97s/it]"
     ]
    },
    {
     "name": "stdout",
     "output_type": "stream",
     "text": [
      "Message: no such element: Unable to locate element: {\"method\":\"css selector\",\"selector\":\"[name=\"p8112030\"]\"}\n",
      "  (Session info: chrome=132.0.6834.160); For documentation on this error, please visit: https://www.selenium.dev/documentation/webdriver/troubleshooting/errors#no-such-element-exception\n",
      "Stacktrace:\n",
      "\tGetHandleVerifier [0x00007FF65F5302F5+28725]\n",
      "\t(No symbol) [0x00007FF65F492AE0]\n",
      "\t(No symbol) [0x00007FF65F32510A]\n",
      "\t(No symbol) [0x00007FF65F3793D2]\n",
      "\t(No symbol) [0x00007FF65F3795FC]\n",
      "\t(No symbol) [0x00007FF65F3C3407]\n",
      "\t(No symbol) [0x00007FF65F39FFEF]\n",
      "\t(No symbol) [0x00007FF65F3C0181]\n",
      "\t(No symbol) [0x00007FF65F39FD53]\n",
      "\t(No symbol) [0x00007FF65F36A0E3]\n",
      "\t(No symbol) [0x00007FF65F36B471]\n",
      "\tGetHandleVerifier [0x00007FF65F85F30D+3366989]\n",
      "\tGetHandleVerifier [0x00007FF65F8712F0+3440688]\n",
      "\tGetHandleVerifier [0x00007FF65F8678FD+3401277]\n",
      "\tGetHandleVerifier [0x00007FF65F5FAAAB+858091]\n",
      "\t(No symbol) [0x00007FF65F49E74F]\n",
      "\t(No symbol) [0x00007FF65F49A304]\n",
      "\t(No symbol) [0x00007FF65F49A49D]\n",
      "\t(No symbol) [0x00007FF65F488B69]\n",
      "\tBaseThreadInitThunk [0x00007FFCE1FAE8D7+23]\n",
      "\tRtlUserThreadStart [0x00007FFCE2D5FBCC+44]\n",
      "\n"
     ]
    },
    {
     "name": "stderr",
     "output_type": "stream",
     "text": [
      " 21%|██        | 17/82 [01:38<05:53,  5.44s/it]"
     ]
    },
    {
     "name": "stdout",
     "output_type": "stream",
     "text": [
      "Message: no such element: Unable to locate element: {\"method\":\"css selector\",\"selector\":\"[name=\"munr_chk\"]\"}\n",
      "  (Session info: chrome=132.0.6834.160); For documentation on this error, please visit: https://www.selenium.dev/documentation/webdriver/troubleshooting/errors#no-such-element-exception\n",
      "Stacktrace:\n",
      "\tGetHandleVerifier [0x00007FF65F5302F5+28725]\n",
      "\t(No symbol) [0x00007FF65F492AE0]\n",
      "\t(No symbol) [0x00007FF65F32510A]\n",
      "\t(No symbol) [0x00007FF65F3793D2]\n",
      "\t(No symbol) [0x00007FF65F3795FC]\n",
      "\t(No symbol) [0x00007FF65F3C3407]\n",
      "\t(No symbol) [0x00007FF65F39FFEF]\n",
      "\t(No symbol) [0x00007FF65F3C0181]\n",
      "\t(No symbol) [0x00007FF65F39FD53]\n",
      "\t(No symbol) [0x00007FF65F36A0E3]\n",
      "\t(No symbol) [0x00007FF65F36B471]\n",
      "\tGetHandleVerifier [0x00007FF65F85F30D+3366989]\n",
      "\tGetHandleVerifier [0x00007FF65F8712F0+3440688]\n",
      "\tGetHandleVerifier [0x00007FF65F8678FD+3401277]\n",
      "\tGetHandleVerifier [0x00007FF65F5FAAAB+858091]\n",
      "\t(No symbol) [0x00007FF65F49E74F]\n",
      "\t(No symbol) [0x00007FF65F49A304]\n",
      "\t(No symbol) [0x00007FF65F49A49D]\n",
      "\t(No symbol) [0x00007FF65F488B69]\n",
      "\tBaseThreadInitThunk [0x00007FFCE1FAE8D7+23]\n",
      "\tRtlUserThreadStart [0x00007FFCE2D5FBCC+44]\n",
      "\n"
     ]
    },
    {
     "name": "stderr",
     "output_type": "stream",
     "text": [
      " 22%|██▏       | 18/82 [01:42<05:20,  5.01s/it]"
     ]
    },
    {
     "name": "stdout",
     "output_type": "stream",
     "text": [
      "Message: no such element: Unable to locate element: {\"method\":\"css selector\",\"selector\":\"[name=\"munr_chk\"]\"}\n",
      "  (Session info: chrome=132.0.6834.160); For documentation on this error, please visit: https://www.selenium.dev/documentation/webdriver/troubleshooting/errors#no-such-element-exception\n",
      "Stacktrace:\n",
      "\tGetHandleVerifier [0x00007FF65F5302F5+28725]\n",
      "\t(No symbol) [0x00007FF65F492AE0]\n",
      "\t(No symbol) [0x00007FF65F32510A]\n",
      "\t(No symbol) [0x00007FF65F3793D2]\n",
      "\t(No symbol) [0x00007FF65F3795FC]\n",
      "\t(No symbol) [0x00007FF65F3C3407]\n",
      "\t(No symbol) [0x00007FF65F39FFEF]\n",
      "\t(No symbol) [0x00007FF65F3C0181]\n",
      "\t(No symbol) [0x00007FF65F39FD53]\n",
      "\t(No symbol) [0x00007FF65F36A0E3]\n",
      "\t(No symbol) [0x00007FF65F36B471]\n",
      "\tGetHandleVerifier [0x00007FF65F85F30D+3366989]\n",
      "\tGetHandleVerifier [0x00007FF65F8712F0+3440688]\n",
      "\tGetHandleVerifier [0x00007FF65F8678FD+3401277]\n",
      "\tGetHandleVerifier [0x00007FF65F5FAAAB+858091]\n",
      "\t(No symbol) [0x00007FF65F49E74F]\n",
      "\t(No symbol) [0x00007FF65F49A304]\n",
      "\t(No symbol) [0x00007FF65F49A49D]\n",
      "\t(No symbol) [0x00007FF65F488B69]\n",
      "\tBaseThreadInitThunk [0x00007FFCE1FAE8D7+23]\n",
      "\tRtlUserThreadStart [0x00007FFCE2D5FBCC+44]\n",
      "\n"
     ]
    },
    {
     "name": "stderr",
     "output_type": "stream",
     "text": [
      " 26%|██▌       | 21/82 [01:59<05:19,  5.24s/it]"
     ]
    },
    {
     "name": "stdout",
     "output_type": "stream",
     "text": [
      "Message: no such element: Unable to locate element: {\"method\":\"css selector\",\"selector\":\"[name=\"munr_chk\"]\"}\n",
      "  (Session info: chrome=132.0.6834.160); For documentation on this error, please visit: https://www.selenium.dev/documentation/webdriver/troubleshooting/errors#no-such-element-exception\n",
      "Stacktrace:\n",
      "\tGetHandleVerifier [0x00007FF65F5302F5+28725]\n",
      "\t(No symbol) [0x00007FF65F492AE0]\n",
      "\t(No symbol) [0x00007FF65F32510A]\n",
      "\t(No symbol) [0x00007FF65F3793D2]\n",
      "\t(No symbol) [0x00007FF65F3795FC]\n",
      "\t(No symbol) [0x00007FF65F3C3407]\n",
      "\t(No symbol) [0x00007FF65F39FFEF]\n",
      "\t(No symbol) [0x00007FF65F3C0181]\n",
      "\t(No symbol) [0x00007FF65F39FD53]\n",
      "\t(No symbol) [0x00007FF65F36A0E3]\n",
      "\t(No symbol) [0x00007FF65F36B471]\n",
      "\tGetHandleVerifier [0x00007FF65F85F30D+3366989]\n",
      "\tGetHandleVerifier [0x00007FF65F8712F0+3440688]\n",
      "\tGetHandleVerifier [0x00007FF65F8678FD+3401277]\n",
      "\tGetHandleVerifier [0x00007FF65F5FAAAB+858091]\n",
      "\t(No symbol) [0x00007FF65F49E74F]\n",
      "\t(No symbol) [0x00007FF65F49A304]\n",
      "\t(No symbol) [0x00007FF65F49A49D]\n",
      "\t(No symbol) [0x00007FF65F488B69]\n",
      "\tBaseThreadInitThunk [0x00007FFCE1FAE8D7+23]\n",
      "\tRtlUserThreadStart [0x00007FFCE2D5FBCC+44]\n",
      "\n"
     ]
    },
    {
     "name": "stderr",
     "output_type": "stream",
     "text": [
      " 27%|██▋       | 22/82 [02:04<05:01,  5.02s/it]"
     ]
    },
    {
     "name": "stdout",
     "output_type": "stream",
     "text": [
      "Message: no such element: Unable to locate element: {\"method\":\"css selector\",\"selector\":\"[name=\"munr_chk\"]\"}\n",
      "  (Session info: chrome=132.0.6834.160); For documentation on this error, please visit: https://www.selenium.dev/documentation/webdriver/troubleshooting/errors#no-such-element-exception\n",
      "Stacktrace:\n",
      "\tGetHandleVerifier [0x00007FF65F5302F5+28725]\n",
      "\t(No symbol) [0x00007FF65F492AE0]\n",
      "\t(No symbol) [0x00007FF65F32510A]\n",
      "\t(No symbol) [0x00007FF65F3793D2]\n",
      "\t(No symbol) [0x00007FF65F3795FC]\n",
      "\t(No symbol) [0x00007FF65F3C3407]\n",
      "\t(No symbol) [0x00007FF65F39FFEF]\n",
      "\t(No symbol) [0x00007FF65F3C0181]\n",
      "\t(No symbol) [0x00007FF65F39FD53]\n",
      "\t(No symbol) [0x00007FF65F36A0E3]\n",
      "\t(No symbol) [0x00007FF65F36B471]\n",
      "\tGetHandleVerifier [0x00007FF65F85F30D+3366989]\n",
      "\tGetHandleVerifier [0x00007FF65F8712F0+3440688]\n",
      "\tGetHandleVerifier [0x00007FF65F8678FD+3401277]\n",
      "\tGetHandleVerifier [0x00007FF65F5FAAAB+858091]\n",
      "\t(No symbol) [0x00007FF65F49E74F]\n",
      "\t(No symbol) [0x00007FF65F49A304]\n",
      "\t(No symbol) [0x00007FF65F49A49D]\n",
      "\t(No symbol) [0x00007FF65F488B69]\n",
      "\tBaseThreadInitThunk [0x00007FFCE1FAE8D7+23]\n",
      "\tRtlUserThreadStart [0x00007FFCE2D5FBCC+44]\n",
      "\n"
     ]
    },
    {
     "name": "stderr",
     "output_type": "stream",
     "text": [
      " 38%|███▊      | 31/82 [03:01<05:48,  6.83s/it]"
     ]
    },
    {
     "name": "stdout",
     "output_type": "stream",
     "text": [
      "Message: no such element: Unable to locate element: {\"method\":\"css selector\",\"selector\":\"[name=\"munr_chk\"]\"}\n",
      "  (Session info: chrome=132.0.6834.160); For documentation on this error, please visit: https://www.selenium.dev/documentation/webdriver/troubleshooting/errors#no-such-element-exception\n",
      "Stacktrace:\n",
      "\tGetHandleVerifier [0x00007FF65F5302F5+28725]\n",
      "\t(No symbol) [0x00007FF65F492AE0]\n",
      "\t(No symbol) [0x00007FF65F32510A]\n",
      "\t(No symbol) [0x00007FF65F3793D2]\n",
      "\t(No symbol) [0x00007FF65F3795FC]\n",
      "\t(No symbol) [0x00007FF65F3C3407]\n",
      "\t(No symbol) [0x00007FF65F39FFEF]\n",
      "\t(No symbol) [0x00007FF65F3C0181]\n",
      "\t(No symbol) [0x00007FF65F39FD53]\n",
      "\t(No symbol) [0x00007FF65F36A0E3]\n",
      "\t(No symbol) [0x00007FF65F36B471]\n",
      "\tGetHandleVerifier [0x00007FF65F85F30D+3366989]\n",
      "\tGetHandleVerifier [0x00007FF65F8712F0+3440688]\n",
      "\tGetHandleVerifier [0x00007FF65F8678FD+3401277]\n",
      "\tGetHandleVerifier [0x00007FF65F5FAAAB+858091]\n",
      "\t(No symbol) [0x00007FF65F49E74F]\n",
      "\t(No symbol) [0x00007FF65F49A304]\n",
      "\t(No symbol) [0x00007FF65F49A49D]\n",
      "\t(No symbol) [0x00007FF65F488B69]\n",
      "\tBaseThreadInitThunk [0x00007FFCE1FAE8D7+23]\n",
      "\tRtlUserThreadStart [0x00007FFCE2D5FBCC+44]\n",
      "\n"
     ]
    },
    {
     "name": "stderr",
     "output_type": "stream",
     "text": [
      " 44%|████▍     | 36/82 [03:29<04:14,  5.53s/it]"
     ]
    },
    {
     "name": "stdout",
     "output_type": "stream",
     "text": [
      "Message: no such element: Unable to locate element: {\"method\":\"css selector\",\"selector\":\"[name=\"munr_chk\"]\"}\n",
      "  (Session info: chrome=132.0.6834.160); For documentation on this error, please visit: https://www.selenium.dev/documentation/webdriver/troubleshooting/errors#no-such-element-exception\n",
      "Stacktrace:\n",
      "\tGetHandleVerifier [0x00007FF65F5302F5+28725]\n",
      "\t(No symbol) [0x00007FF65F492AE0]\n",
      "\t(No symbol) [0x00007FF65F32510A]\n",
      "\t(No symbol) [0x00007FF65F3793D2]\n",
      "\t(No symbol) [0x00007FF65F3795FC]\n",
      "\t(No symbol) [0x00007FF65F3C3407]\n",
      "\t(No symbol) [0x00007FF65F39FFEF]\n",
      "\t(No symbol) [0x00007FF65F3C0181]\n",
      "\t(No symbol) [0x00007FF65F39FD53]\n",
      "\t(No symbol) [0x00007FF65F36A0E3]\n",
      "\t(No symbol) [0x00007FF65F36B471]\n",
      "\tGetHandleVerifier [0x00007FF65F85F30D+3366989]\n",
      "\tGetHandleVerifier [0x00007FF65F8712F0+3440688]\n",
      "\tGetHandleVerifier [0x00007FF65F8678FD+3401277]\n",
      "\tGetHandleVerifier [0x00007FF65F5FAAAB+858091]\n",
      "\t(No symbol) [0x00007FF65F49E74F]\n",
      "\t(No symbol) [0x00007FF65F49A304]\n",
      "\t(No symbol) [0x00007FF65F49A49D]\n",
      "\t(No symbol) [0x00007FF65F488B69]\n",
      "\tBaseThreadInitThunk [0x00007FFCE1FAE8D7+23]\n",
      "\tRtlUserThreadStart [0x00007FFCE2D5FBCC+44]\n",
      "\n"
     ]
    },
    {
     "name": "stderr",
     "output_type": "stream",
     "text": [
      " 46%|████▋     | 38/82 [03:39<03:50,  5.24s/it]"
     ]
    },
    {
     "name": "stdout",
     "output_type": "stream",
     "text": [
      "Message: no such element: Unable to locate element: {\"method\":\"css selector\",\"selector\":\"[name=\"munr_chk\"]\"}\n",
      "  (Session info: chrome=132.0.6834.160); For documentation on this error, please visit: https://www.selenium.dev/documentation/webdriver/troubleshooting/errors#no-such-element-exception\n",
      "Stacktrace:\n",
      "\tGetHandleVerifier [0x00007FF65F5302F5+28725]\n",
      "\t(No symbol) [0x00007FF65F492AE0]\n",
      "\t(No symbol) [0x00007FF65F32510A]\n",
      "\t(No symbol) [0x00007FF65F3793D2]\n",
      "\t(No symbol) [0x00007FF65F3795FC]\n",
      "\t(No symbol) [0x00007FF65F3C3407]\n",
      "\t(No symbol) [0x00007FF65F39FFEF]\n",
      "\t(No symbol) [0x00007FF65F3C0181]\n",
      "\t(No symbol) [0x00007FF65F39FD53]\n",
      "\t(No symbol) [0x00007FF65F36A0E3]\n",
      "\t(No symbol) [0x00007FF65F36B471]\n",
      "\tGetHandleVerifier [0x00007FF65F85F30D+3366989]\n",
      "\tGetHandleVerifier [0x00007FF65F8712F0+3440688]\n",
      "\tGetHandleVerifier [0x00007FF65F8678FD+3401277]\n",
      "\tGetHandleVerifier [0x00007FF65F5FAAAB+858091]\n",
      "\t(No symbol) [0x00007FF65F49E74F]\n",
      "\t(No symbol) [0x00007FF65F49A304]\n",
      "\t(No symbol) [0x00007FF65F49A49D]\n",
      "\t(No symbol) [0x00007FF65F488B69]\n",
      "\tBaseThreadInitThunk [0x00007FFCE1FAE8D7+23]\n",
      "\tRtlUserThreadStart [0x00007FFCE2D5FBCC+44]\n",
      "\n"
     ]
    },
    {
     "name": "stderr",
     "output_type": "stream",
     "text": [
      " 49%|████▉     | 40/82 [03:49<03:28,  4.95s/it]"
     ]
    },
    {
     "name": "stdout",
     "output_type": "stream",
     "text": [
      "Message: no such element: Unable to locate element: {\"method\":\"css selector\",\"selector\":\"[name=\"munr_chk\"]\"}\n",
      "  (Session info: chrome=132.0.6834.160); For documentation on this error, please visit: https://www.selenium.dev/documentation/webdriver/troubleshooting/errors#no-such-element-exception\n",
      "Stacktrace:\n",
      "\tGetHandleVerifier [0x00007FF65F5302F5+28725]\n",
      "\t(No symbol) [0x00007FF65F492AE0]\n",
      "\t(No symbol) [0x00007FF65F32510A]\n",
      "\t(No symbol) [0x00007FF65F3793D2]\n",
      "\t(No symbol) [0x00007FF65F3795FC]\n",
      "\t(No symbol) [0x00007FF65F3C3407]\n",
      "\t(No symbol) [0x00007FF65F39FFEF]\n",
      "\t(No symbol) [0x00007FF65F3C0181]\n",
      "\t(No symbol) [0x00007FF65F39FD53]\n",
      "\t(No symbol) [0x00007FF65F36A0E3]\n",
      "\t(No symbol) [0x00007FF65F36B471]\n",
      "\tGetHandleVerifier [0x00007FF65F85F30D+3366989]\n",
      "\tGetHandleVerifier [0x00007FF65F8712F0+3440688]\n",
      "\tGetHandleVerifier [0x00007FF65F8678FD+3401277]\n",
      "\tGetHandleVerifier [0x00007FF65F5FAAAB+858091]\n",
      "\t(No symbol) [0x00007FF65F49E74F]\n",
      "\t(No symbol) [0x00007FF65F49A304]\n",
      "\t(No symbol) [0x00007FF65F49A49D]\n",
      "\t(No symbol) [0x00007FF65F488B69]\n",
      "\tBaseThreadInitThunk [0x00007FFCE1FAE8D7+23]\n",
      "\tRtlUserThreadStart [0x00007FFCE2D5FBCC+44]\n",
      "\n"
     ]
    },
    {
     "name": "stderr",
     "output_type": "stream",
     "text": [
      " 62%|██████▏   | 51/82 [04:50<02:27,  4.76s/it]"
     ]
    },
    {
     "name": "stdout",
     "output_type": "stream",
     "text": [
      "Message: element not interactable\n",
      "  (Session info: chrome=132.0.6834.160)\n",
      "Stacktrace:\n",
      "\tGetHandleVerifier [0x00007FF65F5302F5+28725]\n",
      "\t(No symbol) [0x00007FF65F492AE0]\n",
      "\t(No symbol) [0x00007FF65F324F39]\n",
      "\t(No symbol) [0x00007FF65F37A7D4]\n",
      "\t(No symbol) [0x00007FF65F36C6B4]\n",
      "\t(No symbol) [0x00007FF65F39FFAA]\n",
      "\t(No symbol) [0x00007FF65F36BF86]\n",
      "\t(No symbol) [0x00007FF65F3A01C0]\n",
      "\t(No symbol) [0x00007FF65F3C0181]\n",
      "\t(No symbol) [0x00007FF65F39FD53]\n",
      "\t(No symbol) [0x00007FF65F36A0E3]\n",
      "\t(No symbol) [0x00007FF65F36B471]\n",
      "\tGetHandleVerifier [0x00007FF65F85F30D+3366989]\n",
      "\tGetHandleVerifier [0x00007FF65F8712F0+3440688]\n",
      "\tGetHandleVerifier [0x00007FF65F8678FD+3401277]\n",
      "\tGetHandleVerifier [0x00007FF65F5FAAAB+858091]\n",
      "\t(No symbol) [0x00007FF65F49E74F]\n",
      "\t(No symbol) [0x00007FF65F49A304]\n",
      "\t(No symbol) [0x00007FF65F49A49D]\n",
      "\t(No symbol) [0x00007FF65F488B69]\n",
      "\tBaseThreadInitThunk [0x00007FFCE1FAE8D7+23]\n",
      "\tRtlUserThreadStart [0x00007FFCE2D5FBCC+44]\n",
      "\n"
     ]
    },
    {
     "name": "stderr",
     "output_type": "stream",
     "text": [
      " 66%|██████▌   | 54/82 [05:06<02:20,  5.03s/it]"
     ]
    },
    {
     "name": "stdout",
     "output_type": "stream",
     "text": [
      "Message: no such element: Unable to locate element: {\"method\":\"css selector\",\"selector\":\"[name=\"munr_chk\"]\"}\n",
      "  (Session info: chrome=132.0.6834.160); For documentation on this error, please visit: https://www.selenium.dev/documentation/webdriver/troubleshooting/errors#no-such-element-exception\n",
      "Stacktrace:\n",
      "\tGetHandleVerifier [0x00007FF65F5302F5+28725]\n",
      "\t(No symbol) [0x00007FF65F492AE0]\n",
      "\t(No symbol) [0x00007FF65F32510A]\n",
      "\t(No symbol) [0x00007FF65F3793D2]\n",
      "\t(No symbol) [0x00007FF65F3795FC]\n",
      "\t(No symbol) [0x00007FF65F3C3407]\n",
      "\t(No symbol) [0x00007FF65F39FFEF]\n",
      "\t(No symbol) [0x00007FF65F3C0181]\n",
      "\t(No symbol) [0x00007FF65F39FD53]\n",
      "\t(No symbol) [0x00007FF65F36A0E3]\n",
      "\t(No symbol) [0x00007FF65F36B471]\n",
      "\tGetHandleVerifier [0x00007FF65F85F30D+3366989]\n",
      "\tGetHandleVerifier [0x00007FF65F8712F0+3440688]\n",
      "\tGetHandleVerifier [0x00007FF65F8678FD+3401277]\n",
      "\tGetHandleVerifier [0x00007FF65F5FAAAB+858091]\n",
      "\t(No symbol) [0x00007FF65F49E74F]\n",
      "\t(No symbol) [0x00007FF65F49A304]\n",
      "\t(No symbol) [0x00007FF65F49A49D]\n",
      "\t(No symbol) [0x00007FF65F488B69]\n",
      "\tBaseThreadInitThunk [0x00007FFCE1FAE8D7+23]\n",
      "\tRtlUserThreadStart [0x00007FFCE2D5FBCC+44]\n",
      "\n"
     ]
    },
    {
     "name": "stderr",
     "output_type": "stream",
     "text": [
      " 76%|███████▌  | 62/82 [05:47<01:28,  4.43s/it]"
     ]
    },
    {
     "name": "stdout",
     "output_type": "stream",
     "text": [
      "Message: no such element: Unable to locate element: {\"method\":\"link text\",\"selector\":\"Население\"}\n",
      "  (Session info: chrome=132.0.6834.160); For documentation on this error, please visit: https://www.selenium.dev/documentation/webdriver/troubleshooting/errors#no-such-element-exception\n",
      "Stacktrace:\n",
      "\tGetHandleVerifier [0x00007FF65F5302F5+28725]\n",
      "\t(No symbol) [0x00007FF65F492AE0]\n",
      "\t(No symbol) [0x00007FF65F32510A]\n",
      "\t(No symbol) [0x00007FF65F3793D2]\n",
      "\t(No symbol) [0x00007FF65F3795FC]\n",
      "\t(No symbol) [0x00007FF65F3C3407]\n",
      "\t(No symbol) [0x00007FF65F39FFEF]\n",
      "\t(No symbol) [0x00007FF65F3C0181]\n",
      "\t(No symbol) [0x00007FF65F39FD53]\n",
      "\t(No symbol) [0x00007FF65F36A0E3]\n",
      "\t(No symbol) [0x00007FF65F36B471]\n",
      "\tGetHandleVerifier [0x00007FF65F85F30D+3366989]\n",
      "\tGetHandleVerifier [0x00007FF65F8712F0+3440688]\n",
      "\tGetHandleVerifier [0x00007FF65F8678FD+3401277]\n",
      "\tGetHandleVerifier [0x00007FF65F5FAAAB+858091]\n",
      "\t(No symbol) [0x00007FF65F49E74F]\n",
      "\t(No symbol) [0x00007FF65F49A304]\n",
      "\t(No symbol) [0x00007FF65F49A49D]\n",
      "\t(No symbol) [0x00007FF65F488B69]\n",
      "\tBaseThreadInitThunk [0x00007FFCE1FAE8D7+23]\n",
      "\tRtlUserThreadStart [0x00007FFCE2D5FBCC+44]\n",
      "\n"
     ]
    },
    {
     "name": "stderr",
     "output_type": "stream",
     "text": [
      " 88%|████████▊ | 72/82 [06:42<00:51,  5.19s/it]"
     ]
    },
    {
     "name": "stdout",
     "output_type": "stream",
     "text": [
      "Message: no such element: Unable to locate element: {\"method\":\"css selector\",\"selector\":\"[name=\"munr_chk\"]\"}\n",
      "  (Session info: chrome=132.0.6834.160); For documentation on this error, please visit: https://www.selenium.dev/documentation/webdriver/troubleshooting/errors#no-such-element-exception\n",
      "Stacktrace:\n",
      "\tGetHandleVerifier [0x00007FF65F5302F5+28725]\n",
      "\t(No symbol) [0x00007FF65F492AE0]\n",
      "\t(No symbol) [0x00007FF65F32510A]\n",
      "\t(No symbol) [0x00007FF65F3793D2]\n",
      "\t(No symbol) [0x00007FF65F3795FC]\n",
      "\t(No symbol) [0x00007FF65F3C3407]\n",
      "\t(No symbol) [0x00007FF65F39FFEF]\n",
      "\t(No symbol) [0x00007FF65F3C0181]\n",
      "\t(No symbol) [0x00007FF65F39FD53]\n",
      "\t(No symbol) [0x00007FF65F36A0E3]\n",
      "\t(No symbol) [0x00007FF65F36B471]\n",
      "\tGetHandleVerifier [0x00007FF65F85F30D+3366989]\n",
      "\tGetHandleVerifier [0x00007FF65F8712F0+3440688]\n",
      "\tGetHandleVerifier [0x00007FF65F8678FD+3401277]\n",
      "\tGetHandleVerifier [0x00007FF65F5FAAAB+858091]\n",
      "\t(No symbol) [0x00007FF65F49E74F]\n",
      "\t(No symbol) [0x00007FF65F49A304]\n",
      "\t(No symbol) [0x00007FF65F49A49D]\n",
      "\t(No symbol) [0x00007FF65F488B69]\n",
      "\tBaseThreadInitThunk [0x00007FFCE1FAE8D7+23]\n",
      "\tRtlUserThreadStart [0x00007FFCE2D5FBCC+44]\n",
      "\n"
     ]
    },
    {
     "name": "stderr",
     "output_type": "stream",
     "text": [
      " 93%|█████████▎| 76/82 [07:04<00:30,  5.03s/it]"
     ]
    },
    {
     "name": "stdout",
     "output_type": "stream",
     "text": [
      "Message: element not interactable\n",
      "  (Session info: chrome=132.0.6834.160)\n",
      "Stacktrace:\n",
      "\tGetHandleVerifier [0x00007FF65F5302F5+28725]\n",
      "\t(No symbol) [0x00007FF65F492AE0]\n",
      "\t(No symbol) [0x00007FF65F324F39]\n",
      "\t(No symbol) [0x00007FF65F37A7D4]\n",
      "\t(No symbol) [0x00007FF65F36C6B4]\n",
      "\t(No symbol) [0x00007FF65F39FFAA]\n",
      "\t(No symbol) [0x00007FF65F36BF86]\n",
      "\t(No symbol) [0x00007FF65F3A01C0]\n",
      "\t(No symbol) [0x00007FF65F3C0181]\n",
      "\t(No symbol) [0x00007FF65F39FD53]\n",
      "\t(No symbol) [0x00007FF65F36A0E3]\n",
      "\t(No symbol) [0x00007FF65F36B471]\n",
      "\tGetHandleVerifier [0x00007FF65F85F30D+3366989]\n",
      "\tGetHandleVerifier [0x00007FF65F8712F0+3440688]\n",
      "\tGetHandleVerifier [0x00007FF65F8678FD+3401277]\n",
      "\tGetHandleVerifier [0x00007FF65F5FAAAB+858091]\n",
      "\t(No symbol) [0x00007FF65F49E74F]\n",
      "\t(No symbol) [0x00007FF65F49A304]\n",
      "\t(No symbol) [0x00007FF65F49A49D]\n",
      "\t(No symbol) [0x00007FF65F488B69]\n",
      "\tBaseThreadInitThunk [0x00007FFCE1FAE8D7+23]\n",
      "\tRtlUserThreadStart [0x00007FFCE2D5FBCC+44]\n",
      "\n"
     ]
    },
    {
     "name": "stderr",
     "output_type": "stream",
     "text": [
      "100%|██████████| 82/82 [07:38<00:00,  5.60s/it]"
     ]
    },
    {
     "name": "stdout",
     "output_type": "stream",
     "text": [
      "Message: no such element: Unable to locate element: {\"method\":\"css selector\",\"selector\":\"[name=\"munr_chk\"]\"}\n",
      "  (Session info: chrome=132.0.6834.160); For documentation on this error, please visit: https://www.selenium.dev/documentation/webdriver/troubleshooting/errors#no-such-element-exception\n",
      "Stacktrace:\n",
      "\tGetHandleVerifier [0x00007FF65F5302F5+28725]\n",
      "\t(No symbol) [0x00007FF65F492AE0]\n",
      "\t(No symbol) [0x00007FF65F32510A]\n",
      "\t(No symbol) [0x00007FF65F3793D2]\n",
      "\t(No symbol) [0x00007FF65F3795FC]\n",
      "\t(No symbol) [0x00007FF65F3C3407]\n",
      "\t(No symbol) [0x00007FF65F39FFEF]\n",
      "\t(No symbol) [0x00007FF65F3C0181]\n",
      "\t(No symbol) [0x00007FF65F39FD53]\n",
      "\t(No symbol) [0x00007FF65F36A0E3]\n",
      "\t(No symbol) [0x00007FF65F36B471]\n",
      "\tGetHandleVerifier [0x00007FF65F85F30D+3366989]\n",
      "\tGetHandleVerifier [0x00007FF65F8712F0+3440688]\n",
      "\tGetHandleVerifier [0x00007FF65F8678FD+3401277]\n",
      "\tGetHandleVerifier [0x00007FF65F5FAAAB+858091]\n",
      "\t(No symbol) [0x00007FF65F49E74F]\n",
      "\t(No symbol) [0x00007FF65F49A304]\n",
      "\t(No symbol) [0x00007FF65F49A49D]\n",
      "\t(No symbol) [0x00007FF65F488B69]\n",
      "\tBaseThreadInitThunk [0x00007FFCE1FAE8D7+23]\n",
      "\tRtlUserThreadStart [0x00007FFCE2D5FBCC+44]\n",
      "\n"
     ]
    },
    {
     "name": "stderr",
     "output_type": "stream",
     "text": [
      "\n"
     ]
    }
   ],
   "source": [
    "from tqdm import tqdm\n",
    "cnt = 0\n",
    "for i in tqdm(links):\n",
    "    get_table_one_mun(i[0], cnt)\n",
    "    cnt += 1"
   ]
  },
  {
   "cell_type": "code",
   "execution_count": 23,
   "metadata": {},
   "outputs": [],
   "source": [
    "# search_elem = driver.find_element(By.NAME, 'p8008020') # name элемента, вроде у всех одинаковый"
   ]
  },
  {
   "cell_type": "markdown",
   "metadata": {},
   "source": [
    "в Костроме критерия с аварийным жильем"
   ]
  },
  {
   "cell_type": "code",
   "execution_count": 24,
   "metadata": {},
   "outputs": [],
   "source": [
    "# window_handles = driver.window_handles\n",
    "#         # # Переключаемся на последнюю открытую вкладку (новую)\n",
    "# driver.switch_to.window(window_handles[-1])"
   ]
  }
 ],
 "metadata": {
  "kernelspec": {
   "display_name": "Python 3",
   "language": "python",
   "name": "python3"
  },
  "language_info": {
   "codemirror_mode": {
    "name": "ipython",
    "version": 3
   },
   "file_extension": ".py",
   "mimetype": "text/x-python",
   "name": "python",
   "nbconvert_exporter": "python",
   "pygments_lexer": "ipython3",
   "version": "3.13.0"
  }
 },
 "nbformat": 4,
 "nbformat_minor": 2
}
